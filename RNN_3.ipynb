{
 "cells": [
  {
   "cell_type": "markdown",
   "metadata": {},
   "source": [
    "## import library\n",
    "- http://www.wildml.com/2016/08/rnns-in-tensorflow-a-practical-guide-and-undocumented-features/\n",
    "- http://learningtensorflow.com/index.html\n",
    "- http://suriyadeepan.github.io/2016-12-31-practical-seq2seq/"
   ]
  },
  {
   "cell_type": "code",
   "execution_count": 1,
   "metadata": {},
   "outputs": [],
   "source": [
    "import tensorflow as tf\n",
    "import numpy as np\n",
    "from tensorflow.contrib import rnn\n",
    "import pprint\n",
    "pp = pprint.PrettyPrinter(indent=4)\n",
    "sess = tf.InteractiveSession()"
   ]
  },
  {
   "cell_type": "markdown",
   "metadata": {},
   "source": [
    "# 0. Tensorflow basic\n",
    "\n",
    "- **tf.constant(), tf.Variable()**: 그래프의 객체\n",
    "- **tf.Session()/ tf.InteractiveSession()**: 그래프를 시작\n",
    "- **sess.run(c)**: 텐서 'c'를 계산 -> sess.close() 해야함\n",
    "- **with 절**: tf.Session()은 with 절과 사용, with 절에서 sess.close() 생략가능\n",
    "- **c.eval()**: sess.run(c)와 같음\n",
    "\n",
    "### - **tf.variable_scope()**\n",
    "- 모델에서 필요한 변수들을 관리하는 클래스(변수 범위 만들기)\n",
    "- tf.get_variable(): 직접호출 없이 변수를 가져오거나 생성(initializer 사용)\n",
    "- reuse = False: '현재 variable scope 이름 + 제공된 name'이 없으면 생성\n",
    "- reuse = True: '현재 variable scope 이름 + 제공된 name'이 있으면 반환\n",
    "- reuse = AUTO_REUSE: 둘다"
   ]
  },
  {
   "cell_type": "markdown",
   "metadata": {},
   "source": [
    "# 3. Long Sequence RNN(automatic)"
   ]
  },
  {
   "cell_type": "code",
   "execution_count": 212,
   "metadata": {},
   "outputs": [
    {
     "name": "stdout",
     "output_type": "stream",
     "text": [
      "['H', ' ', 'h', 'e', 'm', 'y', 'o', 'a', 'i', 'j', 'l', 'n', 's']\n",
      "{'H': 0, ' ': 1, 'h': 2, 'e': 3, 'm': 4, 'y': 5, 'o': 6, 'a': 7, 'i': 8, 'j': 9, 'l': 10, 'n': 11, 's': 12}\n"
     ]
    }
   ],
   "source": [
    "tf.reset_default_graph()\n",
    "sess = tf.InteractiveSession()\n",
    "\n",
    "sample = \"Hello my name is hyejin\"\n",
    "idx2char = list(set(sample))  # index -> char\n",
    "# 중복 제거\n",
    "char2idx = {c: i for i, c in enumerate(idx2char)}  # char -> idex\n",
    "# character별 숫자 딕셔너리\n",
    "print(idx2char)\n",
    "print(char2idx)"
   ]
  },
  {
   "cell_type": "markdown",
   "metadata": {},
   "source": [
    "### Set parameters"
   ]
  },
  {
   "cell_type": "code",
   "execution_count": 213,
   "metadata": {},
   "outputs": [
    {
     "name": "stdout",
     "output_type": "stream",
     "text": [
      "13 13 13\n",
      "22\n"
     ]
    }
   ],
   "source": [
    "# hyper parameters\n",
    "dic_size = len(char2idx)  # RNN input size (one hot size)\n",
    "rnn_hidden_size = len(char2idx)  # RNN output size\n",
    "num_classes = len(char2idx)  # final output size (RNN or softmax, etc.)\n",
    "\n",
    "batch_size = 1  # one sample data, one batch\n",
    "sequence_length = len(sample) - 1  # number of lstm rollings (unit #)\n",
    "learning_rate = 0.1\n",
    "print(dic_size, rnn_hidden_size, num_classes)\n",
    "print(sequence_length)"
   ]
  },
  {
   "cell_type": "markdown",
   "metadata": {},
   "source": [
    "### One-hot encoding"
   ]
  },
  {
   "cell_type": "code",
   "execution_count": 214,
   "metadata": {},
   "outputs": [
    {
     "name": "stdout",
     "output_type": "stream",
     "text": [
      "Tensor(\"Placeholder:0\", shape=(?, 22), dtype=int32)\n",
      "Tensor(\"Placeholder_1:0\", shape=(?, 22), dtype=int32)\n",
      "Tensor(\"one_hot_6:0\", shape=(?, 15, 10), dtype=float32)\n"
     ]
    },
    {
     "name": "stderr",
     "output_type": "stream",
     "text": [
      "C:\\Users\\user\\anaconda3\\envs\\tf\\lib\\site-packages\\tensorflow_core\\python\\client\\session.py:1750: UserWarning: An interactive session is already active. This can cause out-of-memory errors in some cases. You must explicitly call `InteractiveSession.close()` to release resources held by the other session(s).\n",
      "  warnings.warn('An interactive session is already active. This can '\n"
     ]
    }
   ],
   "source": [
    "sample_idx = [char2idx[c] for c in sample]  # char to index\n",
    "x_data = [sample_idx[:-1]]  # X data sample (0 ~ n-1) hello: hell\n",
    "y_data = [sample_idx[1:]]   # Y label sample (1 ~ n) hello: ello\n",
    "\n",
    "X = tf.placeholder(tf.int32, [None, sequence_length])  # X data\n",
    "Y = tf.placeholder(tf.int32, [None, sequence_length])  # Y label\n",
    "                            #batch_size = 1\n",
    "\n",
    "# flatten the data (ignore batches for now). No effect if the batch size is 1\n",
    "x_one_hot = tf.one_hot(X, num_classes)  # one hot: 1 -> 0 1 0 0 0 0 0 0 0 0\n",
    "print(X)\n",
    "print(Y)\n",
    "print(X_one_hot)"
   ]
  },
  {
   "cell_type": "markdown",
   "metadata": {},
   "source": [
    "### Create cell"
   ]
  },
  {
   "cell_type": "code",
   "execution_count": 215,
   "metadata": {},
   "outputs": [],
   "source": [
    "cell = tf.contrib.rnn.BasicLSTMCell(num_units=rnn_hidden_size, state_is_tuple=True)\n",
    "initial_state = cell.zero_state(batch_size, tf.float32)\n",
    "outputs, _states = tf.nn.dynamic_rnn(cell, x_one_hot, initial_state=initial_state, dtype=tf.float32)"
   ]
  },
  {
   "cell_type": "markdown",
   "metadata": {},
   "source": [
    "### Train RNN"
   ]
  },
  {
   "cell_type": "code",
   "execution_count": 216,
   "metadata": {},
   "outputs": [
    {
     "name": "stdout",
     "output_type": "stream",
     "text": [
      "(1, 22, 13)\n",
      "(1, 22, 13)\n"
     ]
    }
   ],
   "source": [
    "# reshape out for sequence_loss\n",
    "print(outputs.shape)\n",
    "outputs = tf.reshape(outputs, [batch_size, sequence_length, num_classes])\n",
    "print(outputs.shape)\n",
    "\n",
    "weights = tf.ones([batch_size, sequence_length])\n",
    "sequence_loss = tf.contrib.seq2seq.sequence_loss(logits=outputs, targets=Y, weights=weights)\n",
    "loss = tf.reduce_mean(sequence_loss)\n",
    "train = tf.train.AdamOptimizer(learning_rate=learning_rate).minimize(loss)\n",
    "prediction = tf.argmax(outputs, axis=2)"
   ]
  },
  {
   "cell_type": "code",
   "execution_count": 217,
   "metadata": {},
   "outputs": [
    {
     "name": "stdout",
     "output_type": "stream",
     "text": [
      "0 loss: 2.575422 Prediction: e   l eeeeeeehhhhheenn\n",
      "1 loss: 2.4515016 Prediction: e     eeeeeeehhhhyhhhh\n",
      "2 loss: 2.3242366 Prediction: e         mm        nn\n",
      "3 loss: 2.2703338 Prediction: e  o            nnnnnn\n",
      "4 loss: 2.182235 Prediction: e ooooooommm  s yynnnn\n",
      "5 loss: 2.1380637 Prediction: e oo mmmmmmm iiiiynnnn\n",
      "6 loss: 2.0464647 Prediction: e ommmmmmmmmmmmmiiiiii\n",
      "7 loss: 2.1022942 Prediction: e    my iiinninninnnin\n",
      "8 loss: 2.1552591 Prediction: elo  my inne innnnniin\n",
      "9 loss: 2.0199387 Prediction: ello my nmmm inniyniin\n",
      "10 loss: 1.9002366 Prediction: ello my nmmm innhyeiin\n",
      "11 loss: 1.8524112 Prediction: ello my nmmm isnhyennn\n",
      "12 loss: 1.8225601 Prediction: ello my nmmm ishhyennn\n",
      "13 loss: 1.7886847 Prediction: ello my nmmm sshhyenin\n",
      "14 loss: 1.7432549 Prediction: ello my nmmm sshhyeiin\n",
      "15 loss: 1.7079978 Prediction: ello my nmme ss hyeiin\n",
      "16 loss: 1.6697178 Prediction: ello my nmme is hyejin\n",
      "17 loss: 1.6274269 Prediction: ello my nmme is hyejin\n",
      "18 loss: 1.5950619 Prediction: ello my nmme is hyejin\n",
      "19 loss: 1.569826 Prediction: ello my nmme is hyejin\n",
      "20 loss: 1.5405602 Prediction: ello my nmme is hyejin\n",
      "21 loss: 1.5115211 Prediction: ello my nmme is hyejin\n",
      "22 loss: 1.4884685 Prediction: ello my nmme is hyejin\n",
      "23 loss: 1.465026 Prediction: ello my nmme is hyejin\n",
      "24 loss: 1.4471425 Prediction: ello my nmme is hyejin\n",
      "25 loss: 1.4288349 Prediction: ello my nmme is hyejin\n",
      "26 loss: 1.4115412 Prediction: ello my nmme is hyejin\n",
      "27 loss: 1.3920283 Prediction: ello my name is hyejin\n",
      "28 loss: 1.3724536 Prediction: ello my name is hyejin\n",
      "29 loss: 1.359023 Prediction: ello my name is hyejin\n",
      "30 loss: 1.3466712 Prediction: ello my name is hyejin\n",
      "31 loss: 1.3358693 Prediction: ello my name is hyejin\n",
      "32 loss: 1.32569 Prediction: ello my name is hyejin\n",
      "33 loss: 1.3172485 Prediction: ello my name is hyejin\n",
      "34 loss: 1.3115963 Prediction: ello my name is hyejin\n",
      "35 loss: 1.304288 Prediction: ello my name is hyejin\n",
      "36 loss: 1.300379 Prediction: ello my name is hyejin\n",
      "37 loss: 1.2975692 Prediction: ello my name is hyejin\n",
      "38 loss: 1.2952313 Prediction: ello my name is hyejin\n",
      "39 loss: 1.2853906 Prediction: ello my name is hyejin\n",
      "40 loss: 1.2896434 Prediction: ello my name is hyejin\n",
      "41 loss: 1.2785295 Prediction: ello my name is hyejin\n",
      "42 loss: 1.2761728 Prediction: ello my name is hyejin\n",
      "43 loss: 1.2721156 Prediction: ello my name is hyejin\n",
      "44 loss: 1.2638253 Prediction: ello my name is hyejin\n",
      "45 loss: 1.2623277 Prediction: ello my name is hyejin\n",
      "46 loss: 1.2574418 Prediction: ello my name is hyejin\n",
      "47 loss: 1.2540208 Prediction: ello my name is hyejin\n",
      "48 loss: 1.2518255 Prediction: ello my name is hyejin\n",
      "49 loss: 1.2483109 Prediction: ello my name is hyejin\n"
     ]
    }
   ],
   "source": [
    "with tf.Session() as sess:\n",
    "    sess.run(tf.global_variables_initializer())\n",
    "    for i in range(50):\n",
    "        l, _ = sess.run([loss, train], feed_dict={X: x_data, Y: y_data})\n",
    "        result = sess.run(prediction, feed_dict={X: x_data})\n",
    "\n",
    "        # print char using dic\n",
    "        result_str = [idx2char[c] for c in np.squeeze(result)]\n",
    "\n",
    "        print(i, \"loss:\", l, \"Prediction:\", ''.join(result_str))"
   ]
  }
 ],
 "metadata": {
  "kernelspec": {
   "display_name": "tf",
   "language": "python",
   "name": "tf"
  },
  "language_info": {
   "codemirror_mode": {
    "name": "ipython",
    "version": 3
   },
   "file_extension": ".py",
   "mimetype": "text/x-python",
   "name": "python",
   "nbconvert_exporter": "python",
   "pygments_lexer": "ipython3",
   "version": "3.7.10"
  }
 },
 "nbformat": 4,
 "nbformat_minor": 1
}
